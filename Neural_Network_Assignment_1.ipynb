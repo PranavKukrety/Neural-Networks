{
  "nbformat": 4,
  "nbformat_minor": 0,
  "metadata": {
    "colab": {
      "provenance": []
    },
    "kernelspec": {
      "name": "python3",
      "display_name": "Python 3"
    },
    "language_info": {
      "name": "python"
    }
  },
  "cells": [
    {
      "cell_type": "markdown",
      "source": [
        "#Part 1: Code Analysis\n",
        "#Part 2: Implement and Run the Code"
      ],
      "metadata": {
        "id": "sdsS5ek-wo07"
      }
    },
    {
      "cell_type": "code",
      "source": [
        "import numpy as np\n",
        "\n",
        "## Step function (activation function)\n",
        "def step_function(x):\n",
        "    return 1 if x >= 0.5 else 0\n",
        "\n",
        "## Perceptron class\n",
        "class Perceptron:\n",
        "    def __init__(self, learning_rate=0.1, epochs=10):\n",
        "        self.weights = np.random.rand(2)  ## 2 random weights for 2D output\n",
        "        self.bias = np.random.rand()      ### initialize biasn randomly\n",
        "        self.learning_rate = learning_rate\n",
        "        self.epochs = epochs\n",
        "\n",
        "    ## predict output for a given input\n",
        "    def predict(self, x):\n",
        "        # this loops helps to get easy answer as if any input feature having value less than and equals to 0.5 will automatically give 0 as output\n",
        "        if x[0] < 0.5 or x[1] < 0.5:\n",
        "            return 0\n",
        "        else:\n",
        "          linear_output = np.dot(x, self.weights) + self.bias ## np.dot helps to get solve the array of input features wrt to their individually\n",
        "          return step_function(linear_output)\n",
        "\n",
        "    ## train the perceptron\n",
        "    def train(self, x, y):\n",
        "        for epoch in range(self.epochs):\n",
        "            for i in range(len(x)):\n",
        "                prediction = self.predict(x[i])\n",
        "                error = y[i] - prediction\n",
        "\n",
        "                # update weights and bias based on error\n",
        "                self.weights += self.learning_rate * error * x[i]\n",
        "                self.bias += self.learning_rate * error\n",
        "\n",
        "# training data (classsification of numbers <0.5 as 0,>=0.5 as 1)\n",
        "x = np.array([[0.1, 0.2], [0.6, 0.7], [0.8, 0.9], [0.3, 0.4],\n",
        "              [0.9, 0.1], [0.43, 0.60], [0.7, 0.3]])  # Input pairs\n",
        "y = np.array([0, 1, 1, 0, 0, 0, 0])  # Outputs: <0.5 => 0, >=0.5 => 1\n",
        "\n",
        "# initialize and train the perceptron\n",
        "perceptron = Perceptron()\n",
        "perceptron.train(x, y)\n",
        "\n",
        "# function to get user input and classify it\n",
        "def user_input_classification():\n",
        "    try:\n",
        "        x1 = float(input(\"Enter the first number between 0 and 1: \"))\n",
        "        x2 = float(input(\"Enter the second number between 0 and 1: \"))\n",
        "\n",
        "\n",
        "        if 0 <= x1 <= 1 and 0 <= x2 <= 1:\n",
        "\n",
        "            prediction = perceptron.predict([x1, x2])\n",
        "            print(f\"Perceptron Classification: {prediction}\")\n",
        "        else:\n",
        "            print(\"Please enter numbers between 0 and 1.\")\n",
        "    except ValueError:\n",
        "        print(\"Invalid input. Please enter valid numbers.\")\n",
        "\n",
        "# Classify user input\n",
        "user_input_classification()\n"
      ],
      "metadata": {
        "id": "1EckwGPMV0ok",
        "colab": {
          "base_uri": "https://localhost:8080/"
        },
        "outputId": "9409ede1-40e6-48d8-b1dc-fbf8e0ab94ce"
      },
      "execution_count": 4,
      "outputs": [
        {
          "output_type": "stream",
          "name": "stdout",
          "text": [
            "Enter the first number between 0 and 1: 0.1\n",
            "Enter the second number between 0 and 1: 0.9\n",
            "Perceptron Classification: 0\n"
          ]
        }
      ]
    },
    {
      "cell_type": "markdown",
      "source": [
        "## changing the learning rate to 0.01 or0.5 to see the diffrence"
      ],
      "metadata": {
        "id": "7yMaeIcmRAWU"
      }
    },
    {
      "cell_type": "code",
      "source": [
        "import numpy as np\n",
        "\n",
        "## Step function (activation function)\n",
        "def step_function(x):\n",
        "    return 1 if x >= 0.5 else 0\n",
        "\n",
        "## Perceptron class\n",
        "class Perceptron:\n",
        "    def __init__(self, learning_rate=0.5, epochs=10): ## changing the learning rate from0.1 to 0.5\n",
        "        self.weights = np.random.rand(2)  ## 2 random weights for 2D output\n",
        "        self.bias = np.random.rand()      ### initialize biasn randomly\n",
        "        self.learning_rate = learning_rate\n",
        "        self.epochs = epochs\n",
        "\n",
        "    ## predict output for a given input\n",
        "    def predict(self, x):\n",
        "        # this loops helps to get easy answer as if any input feature having value less than and equals to 0.5 will automatically give 0 as output\n",
        "        if x[0] < 0.5 or x[1] < 0.5:\n",
        "            return 0\n",
        "        else:\n",
        "          linear_output = np.dot(x, self.weights) + self.bias ## np.dot helps to get solve the array of input features wrt to their individually\n",
        "          return step_function(linear_output)\n",
        "\n",
        "    ## train the perceptron\n",
        "    def train(self, x, y):\n",
        "        for epoch in range(self.epochs):\n",
        "            for i in range(len(x)):\n",
        "                prediction = self.predict(x[i])\n",
        "                error = y[i] - prediction\n",
        "\n",
        "                # update weights and bias based on error\n",
        "                self.weights += self.learning_rate * error * x[i]\n",
        "                self.bias += self.learning_rate * error\n",
        "\n",
        "# training data (classsification of numbers <0.5 as 0,>=0.5 as 1)\n",
        "x = np.array([[0.1, 0.2], [0.6, 0.7], [0.8, 0.9], [0.3, 0.4],\n",
        "              [0.9, 0.1], [0.43, 0.60], [0.7, 0.3]])  # Input pairs\n",
        "y = np.array([0, 1, 1, 0, 0, 0, 0])  # Outputs: <0.5 => 0, >=0.5 => 1\n",
        "\n",
        "# initialize and train the perceptron\n",
        "perceptron = Perceptron()\n",
        "perceptron.train(x, y)\n",
        "\n",
        "# function to get user input and classify it\n",
        "def user_input_classification():\n",
        "    try:\n",
        "        x1 = float(input(\"Enter the first number between 0 and 1: \"))\n",
        "        x2 = float(input(\"Enter the second number between 0 and 1: \"))\n",
        "\n",
        "\n",
        "        if 0 <= x1 <= 1 and 0 <= x2 <= 1:\n",
        "\n",
        "            prediction = perceptron.predict([x1, x2])\n",
        "            print(f\"Perceptron Classification: {prediction}\")\n",
        "        else:\n",
        "            print(\"Please enter numbers between 0 and 1.\")\n",
        "    except ValueError:\n",
        "        print(\"Invalid input. Please enter valid numbers.\")\n",
        "\n",
        "# Classify user input\n",
        "user_input_classification()\n"
      ],
      "metadata": {
        "colab": {
          "base_uri": "https://localhost:8080/"
        },
        "id": "5k2DbeO8ROAa",
        "outputId": "629d9a09-ac07-403b-d0ea-4dac72ef15ef"
      },
      "execution_count": 5,
      "outputs": [
        {
          "output_type": "stream",
          "name": "stdout",
          "text": [
            "Enter the first number between 0 and 1: 0.6\n",
            "Enter the second number between 0 and 1: 0.7\n",
            "Perceptron Classification: 1\n"
          ]
        }
      ]
    },
    {
      "cell_type": "markdown",
      "source": [
        "Increasing the epochs upto 200 or more"
      ],
      "metadata": {
        "id": "RbZTwqkRRqGT"
      }
    },
    {
      "cell_type": "code",
      "source": [
        "import numpy as np\n",
        "\n",
        "## Step function (activation function)\n",
        "def step_function(x):\n",
        "    return 1 if x >= 0.5 else 0\n",
        "\n",
        "## Perceptron class\n",
        "class Perceptron:\n",
        "    def __init__(self, learning_rate=0.1, epochs=200): ## here changing the epochs and increases it upto 200\n",
        "        self.weights = np.random.rand(2)  ## 2 random weights for 2D output\n",
        "        self.bias = np.random.rand()      ### initialize biasn randomly\n",
        "        self.learning_rate = learning_rate\n",
        "        self.epochs = epochs\n",
        "\n",
        "    ## predict output for a given input\n",
        "    def predict(self, x):\n",
        "        # this loops helps to get easy answer as if any input feature having value less than and equals to 0.5 will automatically give 0 as output\n",
        "        if x[0] < 0.5 or x[1] < 0.5:\n",
        "            return 0\n",
        "        else:\n",
        "          linear_output = np.dot(x, self.weights) + self.bias ## np.dot helps to get solve the array of input features wrt to their individually\n",
        "          return step_function(linear_output)\n",
        "\n",
        "    ## train the perceptron\n",
        "    def train(self, x, y):\n",
        "        for epoch in range(self.epochs):\n",
        "            for i in range(len(x)):\n",
        "                prediction = self.predict(x[i])\n",
        "                error = y[i] - prediction\n",
        "\n",
        "                # update weights and bias based on error\n",
        "                self.weights += self.learning_rate * error * x[i]\n",
        "                self.bias += self.learning_rate * error\n",
        "\n",
        "# training data (classsification of numbers <0.5 as 0,>=0.5 as 1)\n",
        "x = np.array([[0.1, 0.2], [0.6, 0.7], [0.8, 0.9], [0.3, 0.4],\n",
        "              [0.9, 0.1], [0.43, 0.60], [0.7, 0.3]])  # Input pairs\n",
        "y = np.array([0, 1, 1, 0, 0, 0, 0])  # Outputs: <0.5 => 0, >=0.5 => 1\n",
        "\n",
        "# initialize and train the perceptron\n",
        "perceptron = Perceptron()\n",
        "perceptron.train(x, y)\n",
        "\n",
        "# function to get user input and classify it\n",
        "def user_input_classification():\n",
        "    try:\n",
        "        x1 = float(input(\"Enter the first number between 0 and 1: \"))\n",
        "        x2 = float(input(\"Enter the second number between 0 and 1: \"))\n",
        "\n",
        "\n",
        "        if 0 <= x1 <= 1 and 0 <= x2 <= 1:\n",
        "\n",
        "            prediction = perceptron.predict([x1, x2])\n",
        "            print(f\"Perceptron Classification: {prediction}\")\n",
        "        else:\n",
        "            print(\"Please enter numbers between 0 and 1.\")\n",
        "    except ValueError:\n",
        "        print(\"Invalid input. Please enter valid numbers.\")\n",
        "\n",
        "# Classify user input\n",
        "user_input_classification()\n"
      ],
      "metadata": {
        "colab": {
          "base_uri": "https://localhost:8080/"
        },
        "id": "44lpCuqPRozb",
        "outputId": "7a3f0d82-5c3f-4d7c-8787-3b7f2d6fc1bf"
      },
      "execution_count": 6,
      "outputs": [
        {
          "output_type": "stream",
          "name": "stdout",
          "text": [
            "Enter the first number between 0 and 1: 0.01\n",
            "Enter the second number between 0 and 1: 0.1\n",
            "Perceptron Classification: 0\n"
          ]
        }
      ]
    },
    {
      "cell_type": "code",
      "source": [
        "## modify edges"
      ],
      "metadata": {
        "id": "o_TgEVjFRfG0"
      },
      "execution_count": 3,
      "outputs": []
    },
    {
      "cell_type": "code",
      "source": [],
      "metadata": {
        "id": "9C5rmfVaSHbC"
      },
      "execution_count": null,
      "outputs": []
    }
  ]
}